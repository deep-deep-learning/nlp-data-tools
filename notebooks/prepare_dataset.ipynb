{
 "cells": [
  {
   "cell_type": "code",
   "execution_count": 1,
   "metadata": {},
   "outputs": [
    {
     "name": "stderr",
     "output_type": "stream",
     "text": [
      "/Users/keonyonglee/Documents/GitHub/nlp-data-tools/venv/lib/python3.9/site-packages/tqdm/auto.py:22: TqdmWarning: IProgress not found. Please update jupyter and ipywidgets. See https://ipywidgets.readthedocs.io/en/stable/user_install.html\n",
      "  from .autonotebook import tqdm as notebook_tqdm\n"
     ]
    }
   ],
   "source": [
    "import pandas as pd\n",
    "from transformers import GPT2TokenizerFast"
   ]
  },
  {
   "cell_type": "code",
   "execution_count": 2,
   "metadata": {},
   "outputs": [],
   "source": [
    "def check_and_add_fix(\n",
    "    df:pd.DataFrame,\n",
    "    column:str,\n",
    "    fix:str,\n",
    "    option:str\n",
    ") -> pd.DataFrame:\n",
    "    \n",
    "    # get indices with no prefix/suffix\n",
    "    if option == 'prefix':\n",
    "        no_fix = df[column].str[:len(fix)] != fix\n",
    "    elif option == 'suffix':\n",
    "        no_fix = df[column].str[-len(fix):] != fix\n",
    "    no_fix_index = df[no_fix].index.to_list()\n",
    "    print(f'The indices of the samples that do not have the {option}: {no_fix_index}')\n",
    "\n",
    "    if len(no_fix_index) > 0:\n",
    "        # add prefix/suffix\n",
    "        print(f'Adding the {option} to them')\n",
    "        if option == 'prefix':\n",
    "            df.loc[no_fix, column] = df.loc[no_fix, column].apply(lambda c: f'{fix}{c}')\n",
    "        elif option == 'suffix':\n",
    "            df.loc[no_fix, column] = df.loc[no_fix, column].apply(lambda c: f'{c}{fix}')\n",
    "\n",
    "    return df"
   ]
  },
  {
   "cell_type": "code",
   "execution_count": 3,
   "metadata": {},
   "outputs": [],
   "source": [
    "def get_first_n_tokens(\n",
    "    text:str,\n",
    "    n:int,\n",
    "    tokenizer:GPT2TokenizerFast,\n",
    "):\n",
    "    \n",
    "    return tokenizer.decode(tokenizer.encode(text)[:n])"
   ]
  },
  {
   "cell_type": "code",
   "execution_count": 4,
   "metadata": {},
   "outputs": [],
   "source": [
    "def prepare_dataset(\n",
    "    df:pd.DataFrame, \n",
    "    completion_prefix:str=None, \n",
    "    completion_suffix:str=None,\n",
    "    prompt_prefix:str=None,\n",
    "    prompt_suffix:str=None,\n",
    "):\n",
    "\n",
    "    # check if required columns are there\n",
    "    assert 'completion' in df.columns, \"We need a column named 'completion'\"\n",
    "    assert 'prompt' in df.columns, \"We need a column named 'prompt'\"\n",
    "\n",
    "    # get first 1800 tokens of prompts\n",
    "    tokenizer = GPT2TokenizerFast.from_pretrained(\"gpt2\")\n",
    "    df['prompt'] = df['prompt'].apply(lambda c: get_first_n_tokens(c, 1800, tokenizer))\n",
    "\n",
    "    print('Formatting completions')\n",
    "    # prepare completion\n",
    "    if completion_prefix != None:\n",
    "        df = check_and_add_fix(df, 'completion', completion_prefix, 'prefix')\n",
    "    if completion_suffix != None:\n",
    "        df = check_and_add_fix(df, 'completion', completion_suffix, 'suffix')\n",
    "\n",
    "    print('Formatting prompts')\n",
    "    # prepare prompt\n",
    "    if prompt_prefix != None:\n",
    "        df = check_and_add_fix(df, 'prompt', prompt_prefix, 'prefix')\n",
    "    if prompt_suffix != None:\n",
    "        df = check_and_add_fix(df, 'prompt', prompt_suffix, 'suffix')\n",
    "\n",
    "    return df[['prompt', 'completion']]"
   ]
  },
  {
   "cell_type": "code",
   "execution_count": null,
   "metadata": {},
   "outputs": [],
   "source": []
  }
 ],
 "metadata": {
  "kernelspec": {
   "display_name": "venv",
   "language": "python",
   "name": "python3"
  },
  "language_info": {
   "codemirror_mode": {
    "name": "ipython",
    "version": 3
   },
   "file_extension": ".py",
   "mimetype": "text/x-python",
   "name": "python",
   "nbconvert_exporter": "python",
   "pygments_lexer": "ipython3",
   "version": "3.9.6"
  },
  "orig_nbformat": 4,
  "vscode": {
   "interpreter": {
    "hash": "f3478ab54058fe561cc5d3db68eeed125dab5baf06ca7010c8dc34e7220a4b76"
   }
  }
 },
 "nbformat": 4,
 "nbformat_minor": 2
}
