{
 "cells": [
  {
   "cell_type": "code",
   "execution_count": 4,
   "metadata": {},
   "outputs": [],
   "source": [
    "import pandas as pd"
   ]
  },
  {
   "cell_type": "code",
   "execution_count": 37,
   "metadata": {},
   "outputs": [],
   "source": [
    "# load file\n",
    "file = '2-sentences-formatted.csv'\n",
    "df = pd.read_csv(file)"
   ]
  },
  {
   "cell_type": "code",
   "execution_count": 40,
   "metadata": {},
   "outputs": [],
   "source": [
    "# filter out bad articles\n",
    "df = df[df.Pass == True]"
   ]
  },
  {
   "cell_type": "code",
   "execution_count": 41,
   "metadata": {},
   "outputs": [],
   "source": [
    "# check if required columns are there\n",
    "if 'completion' not in df.columns:\n",
    "    print('Missing completion column')\n",
    "if 'prompt' not in df.columns:\n",
    "    print('Missing prompt column')\n"
   ]
  },
  {
   "cell_type": "code",
   "execution_count": 33,
   "metadata": {},
   "outputs": [
    {
     "ename": "AttributeError",
     "evalue": "'DataFrame' object has no attribute 'completion'",
     "output_type": "error",
     "traceback": [
      "\u001b[0;31m---------------------------------------------------------------------------\u001b[0m",
      "\u001b[0;31mAttributeError\u001b[0m                            Traceback (most recent call last)",
      "\u001b[1;32m/Users/keonyonglee/Documents/GitHub/opeanai-gpt-3-fine-tune-data-formatter/notebook.ipynb Cell 4\u001b[0m in \u001b[0;36m<cell line: 2>\u001b[0;34m()\u001b[0m\n\u001b[1;32m      <a href='vscode-notebook-cell:/Users/keonyonglee/Documents/GitHub/opeanai-gpt-3-fine-tune-data-formatter/notebook.ipynb#W4sZmlsZQ%3D%3D?line=0'>1</a>\u001b[0m \u001b[39m# make sure all completions start with a space\u001b[39;00m\n\u001b[0;32m----> <a href='vscode-notebook-cell:/Users/keonyonglee/Documents/GitHub/opeanai-gpt-3-fine-tune-data-formatter/notebook.ipynb#W4sZmlsZQ%3D%3D?line=1'>2</a>\u001b[0m start \u001b[39m=\u001b[39m df\u001b[39m.\u001b[39;49mcompletion\u001b[39m.\u001b[39mstr[\u001b[39m0\u001b[39m] \u001b[39m==\u001b[39m \u001b[39m'\u001b[39m\u001b[39m \u001b[39m\u001b[39m'\u001b[39m\n\u001b[1;32m      <a href='vscode-notebook-cell:/Users/keonyonglee/Documents/GitHub/opeanai-gpt-3-fine-tune-data-formatter/notebook.ipynb#W4sZmlsZQ%3D%3D?line=2'>3</a>\u001b[0m df\u001b[39m.\u001b[39mcompletion \u001b[39m=\u001b[39m df\u001b[39m.\u001b[39mcompletion\u001b[39m.\u001b[39mstr\u001b[39m.\u001b[39mstrip()\n\u001b[1;32m      <a href='vscode-notebook-cell:/Users/keonyonglee/Documents/GitHub/opeanai-gpt-3-fine-tune-data-formatter/notebook.ipynb#W4sZmlsZQ%3D%3D?line=3'>4</a>\u001b[0m df\u001b[39m.\u001b[39mcompletion \u001b[39m=\u001b[39m df\u001b[39m.\u001b[39mcompletion\u001b[39m.\u001b[39mapply(\u001b[39mlambda\u001b[39;00m c: \u001b[39m'\u001b[39m\u001b[39m \u001b[39m\u001b[39m'\u001b[39m \u001b[39m+\u001b[39m c)\n",
      "File \u001b[0;32m/opt/anaconda3/envs/shaachi/lib/python3.9/site-packages/pandas/core/generic.py:5902\u001b[0m, in \u001b[0;36mNDFrame.__getattr__\u001b[0;34m(self, name)\u001b[0m\n\u001b[1;32m   5895\u001b[0m \u001b[39mif\u001b[39;00m (\n\u001b[1;32m   5896\u001b[0m     name \u001b[39mnot\u001b[39;00m \u001b[39min\u001b[39;00m \u001b[39mself\u001b[39m\u001b[39m.\u001b[39m_internal_names_set\n\u001b[1;32m   5897\u001b[0m     \u001b[39mand\u001b[39;00m name \u001b[39mnot\u001b[39;00m \u001b[39min\u001b[39;00m \u001b[39mself\u001b[39m\u001b[39m.\u001b[39m_metadata\n\u001b[1;32m   5898\u001b[0m     \u001b[39mand\u001b[39;00m name \u001b[39mnot\u001b[39;00m \u001b[39min\u001b[39;00m \u001b[39mself\u001b[39m\u001b[39m.\u001b[39m_accessors\n\u001b[1;32m   5899\u001b[0m     \u001b[39mand\u001b[39;00m \u001b[39mself\u001b[39m\u001b[39m.\u001b[39m_info_axis\u001b[39m.\u001b[39m_can_hold_identifiers_and_holds_name(name)\n\u001b[1;32m   5900\u001b[0m ):\n\u001b[1;32m   5901\u001b[0m     \u001b[39mreturn\u001b[39;00m \u001b[39mself\u001b[39m[name]\n\u001b[0;32m-> 5902\u001b[0m \u001b[39mreturn\u001b[39;00m \u001b[39mobject\u001b[39;49m\u001b[39m.\u001b[39;49m\u001b[39m__getattribute__\u001b[39;49m(\u001b[39mself\u001b[39;49m, name)\n",
      "\u001b[0;31mAttributeError\u001b[0m: 'DataFrame' object has no attribute 'completion'"
     ]
    }
   ],
   "source": [
    "# make sure all completions start with a space\n",
    "df.completion = df.completion.str.strip()\n",
    "df.completion = df.completion.apply(lambda c: ' ' + c)"
   ]
  },
  {
   "cell_type": "code",
   "execution_count": 28,
   "metadata": {},
   "outputs": [],
   "source": [
    "# make sure all completions end with ' END'\n",
    "end = df.completion.apply(lambda c: c[-4:] == ' END')\n",
    "df.loc[~end, 'completion'] = df.loc[~end, 'completion'].apply(lambda c: c + ' END')"
   ]
  },
  {
   "cell_type": "code",
   "execution_count": 30,
   "metadata": {},
   "outputs": [],
   "source": [
    "# make sure all prompts end with '\\n\\n###\\n\\n'\n",
    "end = df.prompt.apply(lambda p: p[-7] == '\\n\\n###\\n\\n')\n",
    "df.loc[~end, 'prompt'] = df.loc[~end, 'prompt'].apply(lambda p: p + '\\n\\n###\\n\\n')"
   ]
  },
  {
   "cell_type": "code",
   "execution_count": null,
   "metadata": {},
   "outputs": [],
   "source": []
  }
 ],
 "metadata": {
  "kernelspec": {
   "display_name": "shaachi",
   "language": "python",
   "name": "python3"
  },
  "language_info": {
   "codemirror_mode": {
    "name": "ipython",
    "version": 3
   },
   "file_extension": ".py",
   "mimetype": "text/x-python",
   "name": "python",
   "nbconvert_exporter": "python",
   "pygments_lexer": "ipython3",
   "version": "3.9.15"
  },
  "orig_nbformat": 4,
  "vscode": {
   "interpreter": {
    "hash": "5afb233cde8462502579b5cb6695653c5d5f6fe44f80b9ccb5439f5c731c7359"
   }
  }
 },
 "nbformat": 4,
 "nbformat_minor": 2
}
